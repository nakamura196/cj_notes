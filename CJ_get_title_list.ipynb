{
  "nbformat": 4,
  "nbformat_minor": 0,
  "metadata": {
    "colab": {
      "private_outputs": true,
      "provenance": [],
      "authorship_tag": "ABX9TyNAF6xS6A19LoI1fUZWOzTk",
      "include_colab_link": true
    },
    "kernelspec": {
      "name": "python3",
      "display_name": "Python 3"
    },
    "language_info": {
      "name": "python"
    },
    "gpuClass": "standard"
  },
  "cells": [
    {
      "cell_type": "markdown",
      "metadata": {
        "id": "view-in-github",
        "colab_type": "text"
      },
      "source": [
        "<a href=\"https://colab.research.google.com/github/nakamura196/cj_notes/blob/main/CJ_get_title_list.ipynb\" target=\"_parent\"><img src=\"https://colab.research.google.com/assets/colab-badge.svg\" alt=\"Open In Colab\"/></a>"
      ]
    },
    {
      "cell_type": "markdown",
      "source": [
        "# Cultural Japanの公開データから、タイトルと画像の一覧を取得する\n",
        "\n",
        "`.env`ファイルを持っている内部の方向け"
      ],
      "metadata": {
        "id": "RT5eRtObOlvg"
      }
    },
    {
      "cell_type": "markdown",
      "source": [
        "## セットアップ"
      ],
      "metadata": {
        "id": "jzupTApONryn"
      }
    },
    {
      "cell_type": "markdown",
      "source": [
        "`host`、`username`、`passowrd`を含む`.env`ファイルをアップロードしてください。"
      ],
      "metadata": {
        "id": "qO8dVwYWOuSv"
      }
    },
    {
      "cell_type": "code",
      "source": [
        "from google.colab import files\n",
        "files.upload()"
      ],
      "metadata": {
        "id": "6ozuQOUfLx5D"
      },
      "execution_count": null,
      "outputs": []
    },
    {
      "cell_type": "code",
      "source": [
        "!pip install python-dotenv"
      ],
      "metadata": {
        "id": "r267oamkMFFP"
      },
      "execution_count": null,
      "outputs": []
    },
    {
      "cell_type": "code",
      "source": [
        "!pip install opensearch-py"
      ],
      "metadata": {
        "id": "0-Il7fpFMLy3"
      },
      "execution_count": null,
      "outputs": []
    },
    {
      "cell_type": "code",
      "source": [
        "index = \"items\""
      ],
      "metadata": {
        "id": "gfHihEQ4NAsi"
      },
      "execution_count": null,
      "outputs": []
    },
    {
      "cell_type": "code",
      "execution_count": null,
      "metadata": {
        "id": "HHbN9FuKLqmG"
      },
      "outputs": [],
      "source": [
        "import os\n",
        "import json\n",
        "from dotenv import load_dotenv\n",
        "\n",
        "from opensearchpy import OpenSearch\n",
        "\n",
        "load_dotenv(override=True)\n",
        "\n",
        "host = os.getenv('host')\n",
        "username = os.getenv('username')\n",
        "password = os.getenv('password')\n",
        "\n",
        "client = OpenSearch(\n",
        "    hosts=[{'host': host, 'port': 443}],\n",
        "    http_auth=(username, password),\n",
        "    use_ssl=True\n",
        ")"
      ]
    },
    {
      "cell_type": "markdown",
      "source": [
        "## source一覧のダウンロード"
      ],
      "metadata": {
        "id": "q31kEy8zMVCE"
      }
    },
    {
      "cell_type": "code",
      "source": [
        "query = {\n",
        "    \"size\": 0,\n",
        "    \"aggs\": {\n",
        "        \"source\": {\n",
        "          \"terms\": {\n",
        "            \"field\": \"source.ja\",\n",
        "            \"order\": {\n",
        "              \"_count\": \"desc\"\n",
        "            },\n",
        "            \"size\": 5000\n",
        "          }\n",
        "        }\n",
        "    }\n",
        "}"
      ],
      "metadata": {
        "id": "65ZyYQnwLtd3"
      },
      "execution_count": null,
      "outputs": []
    },
    {
      "cell_type": "code",
      "source": [
        "result = client.search(index=index, body=json.dumps(query))"
      ],
      "metadata": {
        "id": "nhfgWd62M7tD"
      },
      "execution_count": null,
      "outputs": []
    },
    {
      "cell_type": "code",
      "source": [
        "buckets = result['aggregations']['source']['buckets']"
      ],
      "metadata": {
        "id": "ZWLna444M76y"
      },
      "execution_count": null,
      "outputs": []
    },
    {
      "cell_type": "markdown",
      "source": [
        "## コレクションごとにダウンロードを実行"
      ],
      "metadata": {
        "id": "wTTYej6xNIm-"
      }
    },
    {
      "cell_type": "code",
      "source": [
        "from tqdm import tqdm\n",
        "\n",
        "\n",
        "def get_data(collection, size, per_page=1000):\n",
        "\n",
        "    last = None\n",
        "\n",
        "    loop = int(size / per_page)\n",
        "\n",
        "    for page in tqdm(range(0, loop)):\n",
        "\n",
        "        query = {\n",
        "            \"query\": {\n",
        "                \"match\": {\n",
        "                    \"source.ja\": collection\n",
        "                }\n",
        "            },\n",
        "            \"sort\": [\n",
        "                {\n",
        "                    \"_uri\": {\n",
        "                        \"order\": \"asc\"\n",
        "                    }\n",
        "                }\n",
        "            ],\n",
        "            \"_source\": [\n",
        "                \"_title_ja\",\n",
        "                \"_image\"\n",
        "            ],\n",
        "\n",
        "            \"size\": per_page\n",
        "        }\n",
        "\n",
        "        if last is not None:\n",
        "            query[\"search_after\"] = last\n",
        "\n",
        "        result = client.search(index=\"items\", body=json.dumps(query))\n",
        "\n",
        "        last = result['hits']['hits'][-1]['sort']\n",
        "\n",
        "        opath = f'result/{collection}/{str(page).zfill(8)}.json'\n",
        "        os.makedirs(os.path.dirname(opath), exist_ok=True)\n",
        "\n",
        "        with open(opath, 'w') as f:\n",
        "            json.dump(result, f, ensure_ascii=False, indent=4,\n",
        "                      sort_keys=True, separators=(',', ': '))"
      ],
      "metadata": {
        "id": "X9DYlLf_M81Y"
      },
      "execution_count": null,
      "outputs": []
    },
    {
      "cell_type": "code",
      "source": [
        "for bucket in tqdm(buckets):\n",
        "    get_data(bucket['key'], bucket['doc_count'])"
      ],
      "metadata": {
        "id": "o1TsJsN8NRIA"
      },
      "execution_count": null,
      "outputs": []
    },
    {
      "cell_type": "markdown",
      "source": [
        "## 出力結果をマージ"
      ],
      "metadata": {
        "id": "czQrY602NYXK"
      }
    },
    {
      "cell_type": "code",
      "source": [
        "import glob\n",
        "import json\n",
        "from tqdm import tqdm\n",
        "import pandas as pd\n",
        "\n",
        "files = glob.glob(\"result/*/*.json\")\n",
        "files.sort()\n",
        "\n",
        "rows = []\n",
        "\n",
        "for file in tqdm(files):\n",
        "    with open(file, \"r\") as f:\n",
        "        try:\n",
        "            data = json.load(f)\n",
        "\n",
        "        except Exception as e:\n",
        "            print(file, e)\n",
        "            \n",
        "            continue\n",
        "\n",
        "        hits = data[\"hits\"][\"hits\"]\n",
        "\n",
        "        for item in hits:\n",
        "            id = item[\"_id\"]\n",
        "\n",
        "            if \"_image\" not in item[\"_source\"] or len(item[\"_source\"][\"_image\"]) == 0:\n",
        "                continue\n",
        "\n",
        "            image = item[\"_source\"][\"_image\"][0]\n",
        "            title = item[\"_source\"][\"_title_ja\"][0]\n",
        "\n",
        "            row = [id, image, title]\n",
        "            rows.append(row)\n",
        "\n",
        "df = pd.DataFrame(rows, columns=[\"id\", \"image\", \"title\"])\n",
        "df.to_json('items.jsonl', orient='records', force_ascii=False, lines=True)"
      ],
      "metadata": {
        "id": "nW578AXVNcdT"
      },
      "execution_count": null,
      "outputs": []
    },
    {
      "cell_type": "code",
      "source": [
        "!tar zcvf items.tar.gz items.jsonl"
      ],
      "metadata": {
        "id": "D6X6nZ96NjBb"
      },
      "execution_count": null,
      "outputs": []
    },
    {
      "cell_type": "markdown",
      "source": [
        "### 確認用のテストデータの作成"
      ],
      "metadata": {
        "id": "mYH4PQdzNoN3"
      }
    },
    {
      "cell_type": "code",
      "source": [
        "import random\n",
        "\n",
        "rows_rand = random.sample(rows, 200)\n",
        "df = pd.DataFrame(rows_rand, columns=[\"id\", \"image\", \"title\"])\n",
        "df.to_json('test.jsonl', orient='records', force_ascii=False, lines=True)"
      ],
      "metadata": {
        "id": "lWosr6yQNk1a"
      },
      "execution_count": null,
      "outputs": []
    }
  ]
}